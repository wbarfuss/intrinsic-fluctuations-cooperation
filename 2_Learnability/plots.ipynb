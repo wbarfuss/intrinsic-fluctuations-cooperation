{
 "cells": [
  {
   "cell_type": "code",
   "execution_count": 1,
   "metadata": {},
   "outputs": [],
   "source": [
    "import os\n",
    "import hashlib\n",
    "import numpy as np\n",
    "import matplotlib.pyplot as plt\n",
    "from matplotlib.lines import Line2D\n",
    "\n",
    "import itertools as it\n",
    "import pandas as pd\n",
    "\n",
    "from Env_IteratedPrisonersDilemma import IteratedPrisonersDilemma as IPD\n",
    "from aux_functions import obtain_simdata\n",
    "from aux_functions import _transform_tensor_into_hash"
   ]
  },
  {
   "cell_type": "code",
   "execution_count": 3,
   "metadata": {},
   "outputs": [],
   "source": [
    "from learningdynamics.learningdynamics_jax import memomeanfield_valueSARSA as jvSARSA\n",
    "from learningdynamics.learningdynamics_jax import multiagent_epsilongreedy_policy as MAEGpol"
   ]
  },
  {
   "cell_type": "markdown",
   "metadata": {},
   "source": [
    "## inital conditions"
   ]
  },
  {
   "cell_type": "code",
   "execution_count": 4,
   "metadata": {},
   "outputs": [],
   "source": [
    "from skopt.sampler import Lhs\n",
    "from skopt.space import Space\n",
    "\n",
    "def create_inital_lhs(number, iterations=1000):\n",
    "    \"\"\"Latin hyper cubed initial conditions\"\"\"\n",
    "    space = Space(16*[(0.0, 1.0)])\n",
    "    lhs = Lhs(criterion=\"maximin\", iterations=iterations)\n",
    "    x = lhs.generate(space.dimensions, number, random_state=42)\n",
    "    values = np.array(x).reshape(number, 2, 4, 2)\n",
    "    return values\n"
   ]
  },
  {
   "cell_type": "markdown",
   "metadata": {},
   "source": [
    "## Simulation \n",
    "using value SARSA"
   ]
  },
  {
   "cell_type": "markdown",
   "metadata": {},
   "source": [
    "### Functions"
   ]
  },
  {
   "cell_type": "code",
   "execution_count": 5,
   "metadata": {},
   "outputs": [],
   "source": [
    "def trajectory_average_level_of_cooperation(AEi, pol, qtraj):\n",
    "    cooperations = []\n",
    "    for k in range(len(qtraj)):\n",
    "        X = pol.action_probabilities(qtraj[k])\n",
    "        finX = X\n",
    "        Ps = AEi.statedist(X)\n",
    "        Ci = np.einsum(finX, [0, 1, 2], Ps, [1], [0, 2])[:, 0]\n",
    "        cooperations.append(Ci)\n",
    "    return np.mean(cooperations)\n",
    "\n",
    "def ensemble_average_level_of_cooperation(AEi, pol, qtrajs, cycles):\n",
    "    coop = []\n",
    "    for k in range(len(qtrajs)):\n",
    "        avglen = 1 if not cycles[k] else 50\n",
    "        coop.append(trajectory_average_level_of_cooperation(\n",
    "            AEi, pol, qtrajs[k][-avglen:]))\n",
    "        \n",
    "    return np.mean(coop)\n",
    "\n",
    "def obtain_strategysequence(qtraj, is_cycle=False):\n",
    "    if is_cycle:\n",
    "        stratseq = [str(q).replace('[', '').replace(']', '').replace('.', '').replace(' ', '')\n",
    "            for q in (1 - np.argmax(qtraj, axis=-1))[800:1000].reshape(200,8)]\n",
    "\n",
    "        cyc = np.array(stratseq)\n",
    "        nums = np.ones_like(cyc, dtype=int) * -1\n",
    "\n",
    "        unis = np.unique(cyc)\n",
    "        for k in range(len(unis)):\n",
    "            nums[np.where(cyc == unis[k])[0]] = k\n",
    "\n",
    "        # see: https://stackoverflow.com/questions/44803225/find-likeliest-periodicity-for-time-series-with-numpys-fourier-transform\n",
    "        w = np.fft.fft(nums)\n",
    "        numreps = np.argmax(np.absolute(w)[1:-1])+1\n",
    "        periodlen = np.round(200 / numreps, 0)\n",
    "    \n",
    "        stratseq = cyc[0:int(periodlen)]\n",
    "    else:\n",
    "        stratseq = [str(q).replace('[', '').replace(']', '').replace('.', '').replace(' ', '')\n",
    "            for q in (1 - np.argmax(qtraj, axis=-1))[-1].reshape(1,8)]\n",
    "    return stratseq\n",
    "\n",
    "def ensemble_strategies(qtrajs, cycles):\n",
    "    wsls = 0\n",
    "    gt = 0\n",
    "    alld = 0\n",
    "    total = len(qtrajs)\n",
    "    for k in range(total):\n",
    "        if cycles[k]:\n",
    "            continue\n",
    "        else:\n",
    "            stratseq = obtain_strategysequence(qtrajs[k])[0]\n",
    "            wsls += stratseq == '10011001'\n",
    "            gt += stratseq == '10001000'\n",
    "            alld += stratseq == '00000000'\n",
    "            \n",
    "    result = dict(WSLS=wsls>0, GT=gt>0, ALLD=alld>0,\n",
    "                  avgWSLS=wsls/total, avgGT=gt/total, avgALLD=alld/total)\n",
    "    return result\n",
    "\n",
    "\n",
    "def compute_extended_cooperation_grid(env, init_values, learningrates,\n",
    "                                      explorationrates, discountfactors, \n",
    "                                      Tmax=3000):\n",
    "\n",
    "    Ix = pd.MultiIndex.from_product((learningrates, explorationrates, \n",
    "                                     discountfactors), names=['lr', 'er', 'df'])\n",
    "    df = pd.DataFrame(index=Ix, columns=['Cooperation', 'avgWSLS', 'avgGT',\n",
    "                                         'avgALLD', 'WSLS', 'GT', 'ALLD'])\n",
    "\n",
    "    for alph in learningrates:\n",
    "        for eps in explorationrates:\n",
    "            for gam in discountfactors:\n",
    "                print(\"===== \", alph, eps, gam, \" =====\")\n",
    "            \n",
    "                pol = MAEGpol(epsilon_greedys=eps, N=2)    \n",
    "                AEi = jvSARSA(env,\n",
    "                              learning_rates=alph,\n",
    "                              discount_factors=gam,\n",
    "                              policy=pol)\n",
    "            \n",
    "                ddic = obtain_simdata(AEi, init_values, Tmax=Tmax)\n",
    "                qtrajs = ddic['qtrajs']\n",
    "                cycles = ~ddic['fprs']\n",
    "                # check_run(qtrajs)\n",
    "                \n",
    "                es = ensemble_strategies(qtrajs, cycles)    \n",
    "                df.loc[(alph, eps, gam), 'avgWSLS'] = es['avgWSLS']\n",
    "                df.loc[(alph, eps, gam), 'avgGT'] = es['avgGT']\n",
    "                df.loc[(alph, eps, gam), 'avgALLD'] = es['avgALLD']\n",
    "                df.loc[(alph, eps, gam), 'WSLS'] = es['WSLS']\n",
    "                df.loc[(alph, eps, gam), 'GT'] = es['GT']\n",
    "                df.loc[(alph, eps, gam), 'ALLD'] = es['ALLD']\n",
    "                                \n",
    "                df.loc[(alph, eps, gam), 'Cooperation'] =\\\n",
    "                    ensemble_average_level_of_cooperation(\n",
    "                        AEi, pol, qtrajs, cycles)\n",
    "                        \n",
    "    return df\n",
    "        \n",
    "        \n",
    "def obtain_extended_cooperation_grid(env, init_values, learningrates,\n",
    "                                     explorationrates, discountfactors,\n",
    "                                     verbose=True, Tmax=3000):\n",
    "    # create file name\n",
    "    indi = \"ExtCooperationGrid_\"+env.id()+f\"_alph{learningrates}\"+\\\n",
    "        f\"_eps{explorationrates}\"+f\"_gams{discountfactors}\" +\\\n",
    "        \"_inX\"+str(_transform_tensor_into_hash(init_values))\n",
    "    fn = 'data/' + indi + '.csv'   \n",
    "        \n",
    "    try:\n",
    "        df = pd.read_csv(fn, index_col=0)\n",
    "        print(\"Loading \", indi) if verbose else None\n",
    "    \n",
    "    except:\n",
    "        print(\"Computing \", indi) if verbose else None\n",
    "        df = compute_extended_cooperation_grid(env, init_values,\n",
    "            learningrates, explorationrates, discountfactors, Tmax)\n",
    "        df.to_csv(fn)\n",
    "        df = pd.read_csv(fn, index_col=0)\n",
    "        \n",
    "    return df\n"
   ]
  },
  {
   "cell_type": "code",
   "execution_count": 8,
   "metadata": {},
   "outputs": [
    {
     "name": "stdout",
     "output_type": "stream",
     "text": [
      "Loading  ExtCooperationGrid_IteratedPrisonersDilemma_1.25_1.0_0.0_-0.25_alph[1.0, 0.3, 0.1, 0.03, 0.01, 0.003, 0.001]_eps[0.001, 0.003, 0.01, 0.03, 0.1, 0.3, 0.5]_gams[0.95, 0.99]_inX16229211137959004829\n"
     ]
    }
   ],
   "source": [
    "init_values = create_inital_lhs(250, iterations=1000)\n",
    "\n",
    "explorationrates = [0.5, 0.3, 0.1, 0.03, 0.01, 0.003, 0.001][::-1]\n",
    "discountfactors = [0.95, 0.99]\n",
    "learningrates = [1.0, 0.3, 0.1, 0.03, 0.01, 0.003, 0.001]\n",
    "\n",
    "env = IPD(R=1.0, T=1.25, S=-0.25, P=0.0)  \n",
    "df = obtain_extended_cooperation_grid(env, init_values,\n",
    "    learningrates, explorationrates, discountfactors, Tmax=10000)\n",
    "\n",
    "\n",
    "# # uncomment to calculate values for other environment:\n",
    "# explorationrates = [0.5, 0.35, 0.3, 0.1, 0.03, 0.01, 0.003, 0.001][::-1]\n",
    "# discountfactors = [0.95, 0.99]\n",
    "# learningrates = [1.0, 0.3, 0.1, 0.03, 0.01, 0.003, 0.001]\n",
    "\n",
    "# env = IPD(R=1.0, T=1.5, S=-0.2, P=0.0)\n",
    "# df = obtain_extended_cooperation_grid(env, init_values,\n",
    "#     learningrates, explorationrates, discountfactors, Tmax=10000)"
   ]
  },
  {
   "cell_type": "markdown",
   "metadata": {},
   "source": [
    "## Plots"
   ]
  },
  {
   "cell_type": "code",
   "execution_count": 9,
   "metadata": {},
   "outputs": [],
   "source": [
    "df.reset_index(inplace=True)"
   ]
  },
  {
   "cell_type": "code",
   "execution_count": 10,
   "metadata": {},
   "outputs": [],
   "source": [
    "def aux_plot_grid(df, ax=None, bar=True,\n",
    "                  vmax=None, vmin=None, cmap='viridis'):\n",
    "    \n",
    "    if ax is None:\n",
    "        ax = plt.gca()\n",
    "        \n",
    "    cbar = plt.pcolormesh(df, vmax=vmax, vmin=vmin, cmap=cmap,\n",
    "                            edgecolor='w', linewidth=2)\n",
    "\n",
    "    ax.spines['top'].set_visible(False)\n",
    "    ax.spines['right'].set_visible(False)\n",
    "    ax.spines['bottom'].set_visible(False)\n",
    "    ax.spines['left'].set_visible(False)\n",
    "    ax.set_aspect('equal')\n",
    "\n",
    "    \n",
    "    ax.set_xticks(np.arange(0.5, len(df.columns)))\n",
    "    ax.set_xticklabels(list(df.columns))\n",
    "    ax.set_xlabel(df.columns.name)\n",
    "    ax.set_yticks(np.arange(0.5, len(df.index)))\n",
    "    ax.set_yticklabels(list(df.index))\n",
    "    ax.set_ylabel(df.index.name)\n",
    "    if bar:\n",
    "        cb = plt.gcf().colorbar(cbar, ax=ax)\n",
    "        cb.outline.set_visible(False)\n",
    "        return cb"
   ]
  },
  {
   "cell_type": "code",
   "execution_count": 11,
   "metadata": {},
   "outputs": [
    {
     "data": {
      "image/png": "[encoded data removed]",
      "text/plain": [
       "<Figure size 252x216 with 2 Axes>"
      ]
     },
     "metadata": {},
     "output_type": "display_data"
    },
    {
     "data": {
      "image/png": "[encoded data removed]",
      "text/plain": [
       "<Figure size 252x216 with 2 Axes>"
      ]
     },
     "metadata": {},
     "output_type": "display_data"
    },
    {
     "data": {
      "image/png": "[encoded data removed]",
      "text/plain": [
       "<Figure size 252x216 with 2 Axes>"
      ]
     },
     "metadata": {},
     "output_type": "display_data"
    }
   ],
   "source": [
    "settings = {'text.usetex': True}\n",
    "plt.rcParams.update(settings)\n",
    "\n",
    "dcf = 0.99\n",
    "\n",
    "plt.figure(figsize=(3.5,3))\n",
    "aux_plot_grid(\n",
    "df[df.df == dcf].pivot_table(columns='lr', index='er', values='avgWSLS').T, cmap='Greens', vmin=0, vmax=0.5)\n",
    "ax=plt.gca()\n",
    "ax.set_xlabel(u'Exploration rate $\\epsilon$')\n",
    "ax.set_ylabel(u'Learning rate $\\\\alpha$')\n",
    "ax.set_xticklabels(ax.get_xticklabels(), rotation=45, ha='right',\n",
    "                   position=(0, 0.025))\n",
    "ax.set_title('Win Stay Loose Shift (WSLS)')\n",
    "plt.subplots_adjust(bottom=0.2, left=0.15, right=0.95)\n",
    "plt.savefig(f'figs/GridAvgWSLS_df{dcf}_'+env.id()+'.png', dpi=300)\n",
    "\n",
    "\n",
    "plt.figure(figsize=(3.5,3))\n",
    "aux_plot_grid(\n",
    "df[df.df == dcf].pivot_table(columns='lr', index='er', values='avgGT').T, cmap='Blues', vmin=0, vmax=0.5)\n",
    "ax=plt.gca()\n",
    "ax.set_xlabel(u'Exploration rate $\\epsilon$')\n",
    "ax.set_ylabel(u'Learning rate $\\\\alpha$')\n",
    "ax.set_xticklabels(ax.get_xticklabels(), rotation=45, ha='right',\n",
    "                   position=(0, 0.025))\n",
    "ax.set_title('Grim Trigger (GT)')\n",
    "plt.subplots_adjust(bottom=0.2, left=0.15, right=0.95)\n",
    "plt.savefig(f'figs/GridAvgGT_df{dcf}_'+env.id()+'.png', dpi=300)\n",
    "\n",
    "plt.figure(figsize=(3.5,3))\n",
    "aux_plot_grid(\n",
    "df[df.df == dcf].pivot_table(columns='lr', index='er', values='avgALLD').T, cmap='RdGy', vmin=0.0, vmax=1.0)\n",
    "ax=plt.gca()\n",
    "ax.set_xlabel(u'Exploration rate $\\epsilon$')\n",
    "ax.set_ylabel(u'Learning rate $\\\\alpha$')\n",
    "ax.set_xticklabels(ax.get_xticklabels(), rotation=45, ha='right',\n",
    "                   position=(0, 0.025))\n",
    "ax.set_title('All Defect (ALLD)')\n",
    "plt.subplots_adjust(bottom=0.2, left=0.15, right=0.95)\n",
    "plt.savefig(f'figs/GridAvgALLD_df{dcf}_'+env.id()+'.png', dpi=300)\n"
   ]
  },
  {
   "cell_type": "code",
   "execution_count": null,
   "metadata": {},
   "outputs": [],
   "source": []
  }
 ],
 "metadata": {
  "kernelspec": {
   "display_name": "Python 3.9.7 ('LD')",
   "language": "python",
   "name": "python3"
  },
  "language_info": {
   "codemirror_mode": {
    "name": "ipython",
    "version": 3
   },
   "file_extension": ".py",
   "mimetype": "text/x-python",
   "name": "python",
   "nbconvert_exporter": "python",
   "pygments_lexer": "ipython3",
   "version": "3.9.7"
  },
  "orig_nbformat": 4,
  "vscode": {
   "interpreter": {
    "hash": "9f347cf618a925484381b38620513dd6e3ed28993315687d02bf54c371881151"
   }
  }
 },
 "nbformat": 4,
 "nbformat_minor": 2
}
